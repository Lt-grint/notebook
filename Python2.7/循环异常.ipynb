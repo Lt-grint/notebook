{
 "cells": [
  {
   "cell_type": "code",
   "execution_count": 4,
   "metadata": {},
   "outputs": [
    {
     "name": "stdout",
     "output_type": "stream",
     "text": [
      "11111\n",
      "errr\n",
      "finally\n",
      "11111\n",
      "errr\n",
      "finally\n",
      "11111\n",
      "errr\n",
      "finally\n",
      "11111\n",
      "errr\n",
      "finally\n",
      "11111\n",
      "errr\n",
      "finally\n",
      "2222\n"
     ]
    }
   ],
   "source": [
    "def test():\n",
    "    for i in range(5):\n",
    "        print(\"11111\")\n",
    "        try:\n",
    "            a = 1 / 0\n",
    "        except Exception as e:\n",
    "            print(\"errr\")\n",
    "        finally:\n",
    "            print(\"finally\")\n",
    "    print(\"2222\")        \n",
    "test()            "
   ]
  }
 ],
 "metadata": {
  "kernelspec": {
   "display_name": "Python [conda env:python27]",
   "language": "python",
   "name": "conda-env-python27-py"
  },
  "language_info": {
   "codemirror_mode": {
    "name": "ipython",
    "version": 2
   },
   "file_extension": ".py",
   "mimetype": "text/x-python",
   "name": "python",
   "nbconvert_exporter": "python",
   "pygments_lexer": "ipython2",
   "version": "2.7.13"
  }
 },
 "nbformat": 4,
 "nbformat_minor": 2
}
