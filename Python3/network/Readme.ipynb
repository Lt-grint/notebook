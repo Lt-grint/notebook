{
 "cells": [
  {
   "cell_type": "markdown",
   "metadata": {},
   "source": [
    "# 本项目记录了学习Python3网络编程相关的学习记录\n",
    "\n",
    "使用的Python版本为Python3.6，使用的虚拟环境为Anaconda。\n",
    "## 环境配置\n",
    "1.初始化环境\n",
    "关于cond的安装配置略过，现在创建一个名为py3network的Python 3.6的虚拟环境。\n",
    "```\n",
    "conda create -n  py3network python=3.6\n",
    "```\n",
    "然后激活这个虚拟环境：\n",
    "```\n",
    "activate py3network\n",
    "```"
   ]
  },
  {
   "cell_type": "code",
   "execution_count": null,
   "metadata": {},
   "outputs": [],
   "source": []
  }
 ],
 "metadata": {
  "kernelspec": {
   "display_name": "Python 3",
   "language": "python",
   "name": "python3"
  },
  "language_info": {
   "codemirror_mode": {
    "name": "ipython",
    "version": 3
   },
   "file_extension": ".py",
   "mimetype": "text/x-python",
   "name": "python",
   "nbconvert_exporter": "python",
   "pygments_lexer": "ipython3",
   "version": "3.7.0"
  }
 },
 "nbformat": 4,
 "nbformat_minor": 2
}
