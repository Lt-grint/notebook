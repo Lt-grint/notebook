{
 "cells": [
  {
   "cell_type": "markdown",
   "metadata": {},
   "source": [
    "该模块提供了一个标准接口，用于提取，格式化和打印Python程序的堆栈跟踪。 它在打印堆栈跟踪时完全模仿了Python解释器的行为。 当您想要在程序控制下打印堆栈跟踪时，这非常有用，例如在解释器周围的“包装器”中。 该模块使用回溯对象 - 这是存储在变量sys.exc_traceback（不建议使用）和sys.last_traceback中的对象类型，并作为sys.exc_info（）中的第三项返回。 该模块定义了以下功能：\n",
    "```\n",
    "\n",
    "traceback.print_tb(tb[, limit[, file]])\n",
    "打印traceback对象tb中的堆栈跟踪条目。 如果省略limit或None，则打印所有条目。 如果省略file或None，则输出转到sys.stderr; 否则它应该是一个打开的文件或类似文件的对象来接收输出。\n",
    "\n",
    "traceback.print_exception(etype, value, tb[, limit[, file]])\n",
    "打印异常信息，最多限制堆栈跟踪条目从traceback tb到文件。 这与print_tb（）的不同之处在于：（1）如果tb不是None，则打印一个标题Traceback（最近一次调用last）:; （2）在堆栈跟踪后打印异常etype和值; （3）如果etype是SyntaxError并且value具有适当的格式，它将打印出现语法错误的行，并使用插入符号指示错误的大致位置。\n",
    "\n",
    "traceback.print_exc([limit[, file]])\n",
    "这是print_exception的简写（sys.exc_type，sys.exc_value，sys.exc_traceback，limit，file）。 （实际上，它使用sys.exc_info（）以线程安全的方式检索相同的信息，而不是使用已弃用的变量。）\n",
    "\n",
    "traceback.format_exc([limit])\n",
    "这与print_exc（limit）类似，但返回一个字符串而不是打印到文件。\n",
    "\n",
    "New in version 2.4.\n",
    "\n",
    "traceback.print_last([limit[, file]])\n",
    "这是print_exception的简写（sys.last_type，sys.last_value，sys.last_traceback，limit，file）。 通常，只有在异常达到交互式提示符后才会起作用（请参阅sys.last_type）。\n",
    "\n",
    "traceback.print_stack([f[, limit[, file]]])\n",
    "此函数从其调用点打印堆栈跟踪。 可选的f参数可用于指定要启动的备用堆栈帧。 可选的limit和file参数与print_exception（）的含义相同。\n",
    "\n",
    "traceback.extract_tb(tb[, limit])\n",
    "返回从traceback对象tb中提取的最多限制“预处理”堆栈跟踪条目的列表。 它对堆栈跟踪的替代格式化很有用。 如果省略limit或None，则提取所有条目。 “预处理”堆栈跟踪条目是4元组（文件名，行号，函数名*，文本），表示通常为堆栈跟踪打印的信息。 文本是一个带有前导和尾随空格的字符串; 如果源不可用则为None。\n",
    "\n",
    "traceback.extract_stack([f[, limit]])\n",
    "从当前堆栈帧中提取原始回溯。 返回值的格式与extract_tb（）的格式相同。 可选的f和limit参数与print_stack（）的含义相同。\n",
    "\n",
    "traceback.format_list(extracted_list)\n",
    "给定extract_tb（）或extract_stack（）返回的元组列表，返回准备打印的字符串列表。 结果列表中的每个字符串对应于参数列表中具有相同索引的项。 每个字符串以换行符结尾; 对于那些源文本行不是None的项，字符串也可以包含内部换行符。\n",
    "\n",
    "traceback.format_exception_only(etype, value)\n",
    "格式化回溯的异常部分。 参数是异常类型，etype和value，例如sys.last_type和sys.last_value。 返回值是一个字符串列表，每个字符串以换行符结尾。 通常，列表包含单个字符串; 但是，对于SyntaxError异常，它包含多行（打印时）显示有关语法错误发生位置的详细信息。 指示发生了哪个异常的消息是列表中的始终最后一个字符串。\n",
    "\n",
    "traceback.format_exception(etype, value, tb[, limit])\n",
    "格式化堆栈跟踪和异常信息。 参数与print_exception（）的相应参数具有相同的含义。 返回值是一个字符串列表，每个字符串以换行符结尾，一些包含内部换行符。 连接和打印这些行时，打印的文本与print_exception（）完全相同。\n",
    "\n",
    "traceback.format_tb(tb[, limit])\n",
    "format_list(extract_tb(tb, limit))的简写。\n",
    "\n",
    "traceback.format_stack([f[, limit]])\n",
    "format_list(extract_stack(f, limit))的简写.\n",
    "\n",
    "traceback.tb_lineno(tb)¶\n",
    "此函数返回traceback对象中设置的当前行号。 这个函数是必要的，因为在2.3之前的Python版本中，当-O标志传递给Python时，tb.tb_lineno没有正确更新。 此功能在2.3版本中没有用处。\n",
    "```"
   ]
  },
  {
   "cell_type": "code",
   "execution_count": null,
   "metadata": {},
   "outputs": [],
   "source": [
    "import sys, traceback\n",
    "\n",
    "def run_user_code(envdir):\n",
    "    source = raw_input(\">>> \")\n",
    "    try:\n",
    "        exec source in envdir\n",
    "    except:\n",
    "        print \"Exception in user code:\"\n",
    "        print '-'*60\n",
    "        traceback.print_exc(file=sys.stdout)\n",
    "        print '-'*60\n",
    "\n",
    "envdir = {}\n",
    "while 1:\n",
    "    run_user_code(envdir)"
   ]
  },
  {
   "cell_type": "code",
   "execution_count": null,
   "metadata": {},
   "outputs": [],
   "source": [
    "import sys, traceback\n",
    "\n",
    "def lumberjack():\n",
    "    bright_side_of_death()\n",
    "\n",
    "def bright_side_of_death():\n",
    "    return tuple()[0]\n",
    "\n",
    "try:\n",
    "    lumberjack()\n",
    "except IndexError:\n",
    "    exc_type, exc_value, exc_traceback = sys.exc_info()\n",
    "    print \"*** print_tb:\"\n",
    "    traceback.print_tb(exc_traceback, limit=1, file=sys.stdout)\n",
    "    print \"*** print_exception:\"\n",
    "    traceback.print_exception(exc_type, exc_value, exc_traceback,\n",
    "                              limit=2, file=sys.stdout)\n",
    "    print \"*** print_exc:\"\n",
    "    traceback.print_exc()\n",
    "    print \"*** format_exc, first and last line:\"\n",
    "    formatted_lines = traceback.format_exc().splitlines()\n",
    "    print formatted_lines[0]\n",
    "    print formatted_lines[-1]\n",
    "    print \"*** format_exception:\"\n",
    "    print repr(traceback.format_exception(exc_type, exc_value,\n",
    "                                          exc_traceback))\n",
    "    print \"*** extract_tb:\"\n",
    "    print repr(traceback.extract_tb(exc_traceback))\n",
    "    print \"*** format_tb:\"\n",
    "    print repr(traceback.format_tb(exc_traceback))\n",
    "    print \"*** tb_lineno:\", exc_traceback.tb_lineno"
   ]
  },
  {
   "cell_type": "markdown",
   "metadata": {},
   "source": [
    "  ![image_1d6sjvcmq5vl1cfi1ro0ab21les9.png-84.5kB][3]\n",
    "\n",
    "\n",
    "  [3]: http://static.zybuluo.com/danerlt/lq5c28ansp6dnuwn7z7r0lbt/image_1d6sjvcmq5vl1cfi1ro0ab21les9.png"
   ]
  },
  {
   "cell_type": "code",
   "execution_count": null,
   "metadata": {},
   "outputs": [],
   "source": []
  }
 ],
 "metadata": {
  "kernelspec": {
   "display_name": "Python [conda env:python27]",
   "language": "python",
   "name": "conda-env-python27-py"
  },
  "language_info": {
   "codemirror_mode": {
    "name": "ipython",
    "version": 2
   },
   "file_extension": ".py",
   "mimetype": "text/x-python",
   "name": "python",
   "nbconvert_exporter": "python",
   "pygments_lexer": "ipython2",
   "version": "2.7.13"
  },
  "latex_envs": {
   "LaTeX_envs_menu_present": true,
   "autoclose": false,
   "autocomplete": true,
   "bibliofile": "biblio.bib",
   "cite_by": "apalike",
   "current_citInitial": 1,
   "eqLabelWithNumbers": true,
   "eqNumInitial": 1,
   "hotkeys": {
    "equation": "Ctrl-E",
    "itemize": "Ctrl-I"
   },
   "labels_anchors": false,
   "latex_user_defs": false,
   "report_style_numbering": false,
   "user_envs_cfg": false
  },
  "toc": {
   "base_numbering": 1,
   "nav_menu": {},
   "number_sections": true,
   "sideBar": true,
   "skip_h1_title": false,
   "title_cell": "Table of Contents",
   "title_sidebar": "Contents",
   "toc_cell": false,
   "toc_position": {},
   "toc_section_display": true,
   "toc_window_display": false
  }
 },
 "nbformat": 4,
 "nbformat_minor": 2
}
