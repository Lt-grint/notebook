{
 "cells": [
  {
   "cell_type": "code",
   "execution_count": 2,
   "metadata": {},
   "outputs": [
    {
     "name": "stdout",
     "output_type": "stream",
     "text": [
      "这是主线程： MainThread\n",
      "主线程结束！ MainThread\n",
      "一共用时： 0.002005338668823242\n",
      "当前线程的名字是：当前线程的名字是：当前线程的名字是： Thread-11\n",
      "当前线程的名字是：当前线程的名字是：  Thread-12\n",
      " Thread-14\n",
      "Thread-13\n",
      " Thread-15\n"
     ]
    }
   ],
   "source": [
    "import threading\n",
    "import time\n",
    " \n",
    "    \n",
    "def run():\n",
    "    time.sleep(2)\n",
    "    print('当前线程的名字是：', threading.current_thread().name)\n",
    "    time.sleep(2)\n",
    " \n",
    " \n",
    "if __name__ == '__main__':\n",
    " \n",
    "    start_time = time.time()\n",
    " \n",
    "    print('这是主线程：', threading.current_thread().name)\n",
    "    thread_list = []\n",
    "    for i in range(5):\n",
    "        t = threading.Thread(target=run)\n",
    "        thread_list.append(t)\n",
    " \n",
    "    for t in thread_list:\n",
    "        t.start()\n",
    " \n",
    "    print('主线程结束！' , threading.current_thread().name)\n",
    "    print('一共用时：', time.time()-start_time)"
   ]
  },
  {
   "cell_type": "markdown",
   "metadata": {},
   "source": [
    "# ttt\n",
    "## aaa\n",
    "## bbb\n",
    "### ccc\n",
    "fsdfasdfa\n",
    "fasdfadfa"
   ]
  },
  {
   "cell_type": "code",
   "execution_count": null,
   "metadata": {},
   "outputs": [],
   "source": []
  }
 ],
 "metadata": {
  "kernelspec": {
   "display_name": "Python 3",
   "language": "python",
   "name": "python3"
  },
  "language_info": {
   "codemirror_mode": {
    "name": "ipython",
    "version": 3
   },
   "file_extension": ".py",
   "mimetype": "text/x-python",
   "name": "python",
   "nbconvert_exporter": "python",
   "pygments_lexer": "ipython3",
   "version": "3.7.0"
  },
  "latex_envs": {
   "LaTeX_envs_menu_present": true,
   "autoclose": false,
   "autocomplete": true,
   "bibliofile": "biblio.bib",
   "cite_by": "apalike",
   "current_citInitial": 1,
   "eqLabelWithNumbers": true,
   "eqNumInitial": 1,
   "hotkeys": {
    "equation": "Ctrl-E",
    "itemize": "Ctrl-I"
   },
   "labels_anchors": false,
   "latex_user_defs": false,
   "report_style_numbering": false,
   "user_envs_cfg": false
  },
  "toc": {
   "base_numbering": 1,
   "nav_menu": {},
   "number_sections": true,
   "sideBar": true,
   "skip_h1_title": false,
   "title_cell": "Table of Contents",
   "title_sidebar": "Contents",
   "toc_cell": false,
   "toc_position": {
    "height": "calc(100% - 180px)",
    "left": "10px",
    "top": "150px",
    "width": "384px"
   },
   "toc_section_display": true,
   "toc_window_display": false
  }
 },
 "nbformat": 4,
 "nbformat_minor": 2
}
